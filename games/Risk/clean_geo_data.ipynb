{
 "cells": [
  {
   "cell_type": "code",
   "execution_count": 2,
   "metadata": {},
   "outputs": [],
   "source": [
    "import geopandas as gpd\n",
    "from shapely.geometry import mapping\n",
    "import numpy as np"
   ]
  },
  {
   "cell_type": "code",
   "execution_count": 3,
   "metadata": {},
   "outputs": [],
   "source": [
    "geo_data = gpd.read_file(\"./data/ne_50m_admin_0_countries_lakes.zip\")"
   ]
  },
  {
   "cell_type": "code",
   "execution_count": 4,
   "metadata": {},
   "outputs": [
    {
     "data": {
      "text/plain": [
       "geopandas.geodataframe.GeoDataFrame"
      ]
     },
     "execution_count": 4,
     "metadata": {},
     "output_type": "execute_result"
    }
   ],
   "source": [
    "type(geo_data)"
   ]
  },
  {
   "cell_type": "code",
   "execution_count": 5,
   "metadata": {},
   "outputs": [
    {
     "data": {
      "text/html": [
       "<div>\n",
       "<style scoped>\n",
       "    .dataframe tbody tr th:only-of-type {\n",
       "        vertical-align: middle;\n",
       "    }\n",
       "\n",
       "    .dataframe tbody tr th {\n",
       "        vertical-align: top;\n",
       "    }\n",
       "\n",
       "    .dataframe thead th {\n",
       "        text-align: right;\n",
       "    }\n",
       "</style>\n",
       "<table border=\"1\" class=\"dataframe\">\n",
       "  <thead>\n",
       "    <tr style=\"text-align: right;\">\n",
       "      <th></th>\n",
       "      <th>ADMIN</th>\n",
       "      <th>CONTINENT</th>\n",
       "      <th>geometry</th>\n",
       "    </tr>\n",
       "  </thead>\n",
       "  <tbody>\n",
       "    <tr>\n",
       "      <th>0</th>\n",
       "      <td>Zimbabwe</td>\n",
       "      <td>Africa</td>\n",
       "      <td>MULTIPOLYGON (((31.28789 -22.40205, 31.19727 -...</td>\n",
       "    </tr>\n",
       "    <tr>\n",
       "      <th>1</th>\n",
       "      <td>Zambia</td>\n",
       "      <td>Africa</td>\n",
       "      <td>MULTIPOLYGON (((30.39609 -15.64307, 30.25068 -...</td>\n",
       "    </tr>\n",
       "    <tr>\n",
       "      <th>2</th>\n",
       "      <td>Yemen</td>\n",
       "      <td>Asia</td>\n",
       "      <td>MULTIPOLYGON (((53.08564 16.64839, 52.58145 16...</td>\n",
       "    </tr>\n",
       "  </tbody>\n",
       "</table>\n",
       "</div>"
      ],
      "text/plain": [
       "      ADMIN CONTINENT                                           geometry\n",
       "0  Zimbabwe    Africa  MULTIPOLYGON (((31.28789 -22.40205, 31.19727 -...\n",
       "1    Zambia    Africa  MULTIPOLYGON (((30.39609 -15.64307, 30.25068 -...\n",
       "2     Yemen      Asia  MULTIPOLYGON (((53.08564 16.64839, 52.58145 16..."
      ]
     },
     "execution_count": 5,
     "metadata": {},
     "output_type": "execute_result"
    }
   ],
   "source": [
    "geo_data.head(3)\n",
    "\n",
    "columns = [\n",
    "    \"ADMIN\",\n",
    "    \"CONTINENT\",\n",
    "    \"geometry\"\n",
    "]\n",
    "\n",
    "geo_data[columns].head(3)"
   ]
  },
  {
   "cell_type": "code",
   "execution_count": 6,
   "metadata": {},
   "outputs": [
    {
     "data": {
      "text/plain": [
       "array(['Vatican', 'Jersey', 'Guernsey', 'Isle of Man', 'United Kingdom',\n",
       "       'Ukraine', 'Switzerland', 'Sweden', 'Spain', 'Slovakia',\n",
       "       'Slovenia', 'Republic of Serbia', 'San Marino', 'Russia',\n",
       "       'Romania', 'Portugal', 'Poland', 'Norway', 'Netherlands',\n",
       "       'Montenegro', 'Moldova', 'Monaco', 'Malta', 'North Macedonia',\n",
       "       'Luxembourg', 'Lithuania', 'Liechtenstein', 'Latvia', 'Kosovo',\n",
       "       'Italy', 'Ireland', 'Iceland', 'Hungary', 'Greece', 'Germany',\n",
       "       'France', 'Aland', 'Finland', 'Estonia', 'Faroe Islands',\n",
       "       'Denmark', 'Czechia', 'Croatia', 'Bulgaria',\n",
       "       'Bosnia and Herzegovina', 'Belgium', 'Belarus', 'Austria',\n",
       "       'Andorra', 'Albania'], dtype=object)"
      ]
     },
     "execution_count": 6,
     "metadata": {},
     "output_type": "execute_result"
    }
   ],
   "source": [
    "geo_data[geo_data.CONTINENT == \"Europe\"].ADMIN.unique()"
   ]
  },
  {
   "cell_type": "code",
   "execution_count": null,
   "metadata": {},
   "outputs": [],
   "source": [
    "remove_list = [\n",
    "    'Vatican',\n",
    "    'Jersey', 'Guernsey', 'Isle of Man',\n",
    "    'San Marino',\n",
    "    'Russia',\n",
    "    'Monaco',\n",
    "    'Liechtenstein',\n",
    "    'Aland',\n",
    "    'Faroe Islands',\n",
    "    'Andorra',\n",
    "    'Malta'\n",
    "]\n",
    "\n",
    "country_coords = {}\n",
    "for idx, row in geo_data[(geo_data.CONTINENT == \"Europe\") & (~geo_data.ADMIN.isin(remove_list))].iterrows():\n",
    "    geojson_obj = mapping(row[\"geometry\"])\n",
    "    geo_coords = geojson_obj[\"coordinates\"]\n",
    "    idx = np.argmax([len(coords[0]) for coords in geo_coords])\n",
    "    country_coords[row[\"ADMIN\"]] = geo_coords[idx]"
   ]
  },
  {
   "cell_type": "code",
   "execution_count": 8,
   "metadata": {},
   "outputs": [],
   "source": [
    "countries = {}\n",
    "for country_name, country_coord in country_coords.items():\n",
    "    while len(country_coord) < 5:\n",
    "        country_coord = country_coord[0]\n",
    "    countries[country_name] = country_coord"
   ]
  },
  {
   "cell_type": "code",
   "execution_count": 9,
   "metadata": {},
   "outputs": [],
   "source": [
    "import json\n",
    "\n",
    "with open('data/country_coords.json', 'w') as f:\n",
    "    json.dump(countries, f)"
   ]
  }
 ],
 "metadata": {
  "kernelspec": {
   "display_name": "env",
   "language": "python",
   "name": "python3"
  },
  "language_info": {
   "codemirror_mode": {
    "name": "ipython",
    "version": 3
   },
   "file_extension": ".py",
   "mimetype": "text/x-python",
   "name": "python",
   "nbconvert_exporter": "python",
   "pygments_lexer": "ipython3",
   "version": "3.12.0"
  }
 },
 "nbformat": 4,
 "nbformat_minor": 2
}
